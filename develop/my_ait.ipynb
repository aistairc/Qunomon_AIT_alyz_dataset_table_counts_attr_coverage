{
 "cells": [
  {
   "cell_type": "markdown",
   "metadata": {
    "deletable": false,
    "editable": false
   },
   "source": [
    "# AIT Development notebook"
   ]
  },
  {
   "cell_type": "markdown",
   "metadata": {
    "deletable": false,
    "editable": false
   },
   "source": [
    "## notebook of structure"
   ]
  },
  {
   "cell_type": "markdown",
   "metadata": {
    "deletable": false,
    "editable": false
   },
   "source": [
    "| #  | Name                                               | cells | for_dev | edit               | description                                                                |\n",
    "|----|----------------------------------------------------|-------|---------|--------------------|----------------------------------------------------------------------------|\n",
    "| 1  | [Environment detection](##1-Environment-detection) | 1     | No      | uneditable         | detect whether the notebook are invoked for packaging or in production     |\n",
    "| 2  | [Preparing AIT SDK](##2-Preparing-AIT-SDK)         | 1     | Yes     | uneditable         | download and install AIT SDK                                               |\n",
    "| 3  | [Dependency Management](##3-Dependency-Management) | 3     | Yes     | required(cell #2)  | generate requirements.txt for Docker container                             |\n",
    "| 4  | [Importing Libraries](##4-Importing-Libraries)     | 2     | Yes     | required(cell #1)  | import required libraries                                                  |\n",
    "| 5  | [Manifest Generation](##5-Manifest-Generation)     | 1     | Yes     | required           | generate AIT Manifest                                                      |\n",
    "| 6  | [Prepare for the Input](##6-Prepare-for-the-Input) | 1     | Yes     | required           | generate AIT Input JSON (inventory mapper)                                 |\n",
    "| 7  | [Initialization](##7-Initialization)               | 1     | No      | uneditable         | initialization for AIT execution                                           |\n",
    "| 8  | [Function definitions](##8-Function-definitions)   | N     | No      | required           | define functions invoked from Main area.<br> also define output functions. |\n",
    "| 9  | [Main Algorithms](##9-Main-Algorithms)             | 1     | No      | required           | area for main algorithms of an AIT                                         |\n",
    "| 10 | [Entry point](##10-Entry-point)                    | 1     | No      | uneditable         | an entry point where Qunomon invoke this AIT from here                     |\n",
    "| 11 | [License](##11-License)                            | 1     | Yes     | required           | generate license information                                               |\n",
    "| 12 | [Deployment](##12-Deployment)                      | 1     | Yes     | uneditable         | convert this notebook to the python file for packaging purpose             |"
   ]
  },
  {
   "cell_type": "markdown",
   "metadata": {
    "deletable": false,
    "editable": false
   },
   "source": [
    "## notebook template revision history"
   ]
  },
  {
   "cell_type": "markdown",
   "metadata": {
    "deletable": false,
    "editable": false
   },
   "source": [
    "1.0.1 2020/10/21\n",
    "\n",
    "* add revision history\n",
    "* separate `create requirements and pip install` editable and noeditable\n",
    "* separate `import` editable and noeditable\n",
    "\n",
    "1.0.0 2020/10/12\n",
    "\n",
    "* new cerarion"
   ]
  },
  {
   "cell_type": "markdown",
   "metadata": {
    "deletable": false,
    "editable": false
   },
   "source": [
    "## body"
   ]
  },
  {
   "cell_type": "markdown",
   "metadata": {
    "deletable": false,
    "editable": false
   },
   "source": [
    "### #1 Environment detection"
   ]
  },
  {
   "cell_type": "markdown",
   "metadata": {
    "deletable": false,
    "editable": false
   },
   "source": [
    "[uneditable]"
   ]
  },
  {
   "cell_type": "code",
   "execution_count": 1,
   "metadata": {
    "deletable": false,
    "editable": false
   },
   "outputs": [],
   "source": [
    "# Determine whether to start AIT or jupyter by startup argument\n",
    "import sys\n",
    "is_ait_launch = (len(sys.argv) == 2)"
   ]
  },
  {
   "cell_type": "markdown",
   "metadata": {
    "deletable": false,
    "editable": false
   },
   "source": [
    "### #2 Preparing AIT SDK"
   ]
  },
  {
   "cell_type": "markdown",
   "metadata": {
    "deletable": false,
    "editable": false
   },
   "source": [
    "[uneditable]"
   ]
  },
  {
   "cell_type": "code",
   "execution_count": 2,
   "metadata": {
    "deletable": false,
    "editable": false
   },
   "outputs": [
    {
     "name": "stdout",
     "output_type": "stream",
     "text": [
      "\u001b[33mWARNING: Running pip as the 'root' user can result in broken permissions and conflicting behaviour with the system package manager, possibly rendering your system unusable. It is recommended to use a virtual environment instead: https://pip.pypa.io/warnings/venv. Use the --root-user-action option if you know what you are doing and want to suppress this warning.\u001b[0m\u001b[33m\n",
      "\u001b[0m\u001b[33mWARNING: Running pip as the 'root' user can result in broken permissions and conflicting behaviour with the system package manager, possibly rendering your system unusable. It is recommended to use a virtual environment instead: https://pip.pypa.io/warnings/venv. Use the --root-user-action option if you know what you are doing and want to suppress this warning.\u001b[0m\u001b[33m\n",
      "\u001b[0m"
     ]
    }
   ],
   "source": [
    "if not is_ait_launch:\n",
    "    # get ait-sdk file name\n",
    "    from pathlib import Path\n",
    "    from glob import glob\n",
    "    import re\n",
    "    import os\n",
    "\n",
    "    current_dir = %pwd\n",
    "\n",
    "    ait_sdk_path = \"./ait_sdk-*-py3-none-any.whl\"\n",
    "    ait_sdk_list = glob(ait_sdk_path)\n",
    "    ait_sdk_name = os.path.basename(ait_sdk_list[-1])\n",
    "\n",
    "    # install ait-sdk\n",
    "    !pip install -q --upgrade pip\n",
    "    !pip install -q --no-deps --force-reinstall ./$ait_sdk_name"
   ]
  },
  {
   "cell_type": "markdown",
   "metadata": {
    "deletable": false,
    "editable": false
   },
   "source": [
    "### #3 Dependency Management"
   ]
  },
  {
   "cell_type": "markdown",
   "metadata": {
    "deletable": false,
    "editable": false
   },
   "source": [
    "#### #3-1 [uneditable]"
   ]
  },
  {
   "cell_type": "code",
   "execution_count": 3,
   "metadata": {
    "deletable": false,
    "editable": false
   },
   "outputs": [],
   "source": [
    "if not is_ait_launch:\n",
    "    from ait_sdk.common.files.ait_requirements_generator import AITRequirementsGenerator\n",
    "    requirements_generator = AITRequirementsGenerator()"
   ]
  },
  {
   "cell_type": "markdown",
   "metadata": {
    "deletable": false,
    "editable": false
   },
   "source": [
    "#### #3-2 [required]"
   ]
  },
  {
   "cell_type": "code",
   "execution_count": 4,
   "metadata": {},
   "outputs": [],
   "source": [
    "if not is_ait_launch:\n",
    "    requirements_generator.add_package('pandas', '2.2.3')\n",
    "    requirements_generator.add_package('scipy', '1.15.1')\n",
    "    requirements_generator.add_package('matplotlib','3.10.0')"
   ]
  },
  {
   "cell_type": "markdown",
   "metadata": {
    "deletable": false,
    "editable": false
   },
   "source": [
    "#### #3-3 [uneditable]"
   ]
  },
  {
   "cell_type": "code",
   "execution_count": 5,
   "metadata": {
    "deletable": false,
    "editable": false
   },
   "outputs": [
    {
     "name": "stdout",
     "output_type": "stream",
     "text": [
      "\u001b[33mWARNING: Running pip as the 'root' user can result in broken permissions and conflicting behaviour with the system package manager, possibly rendering your system unusable. It is recommended to use a virtual environment instead: https://pip.pypa.io/warnings/venv. Use the --root-user-action option if you know what you are doing and want to suppress this warning.\u001b[0m\u001b[33m\n",
      "\u001b[0m"
     ]
    }
   ],
   "source": [
    "if not is_ait_launch:\n",
    "    requirements_generator.add_package(f'./{ait_sdk_name}')\n",
    "    requirements_path = requirements_generator.create_requirements(current_dir)\n",
    "\n",
    "    !pip install -q -r $requirements_path "
   ]
  },
  {
   "cell_type": "markdown",
   "metadata": {
    "deletable": false,
    "editable": false
   },
   "source": [
    "### #4 Importing Libraries"
   ]
  },
  {
   "cell_type": "markdown",
   "metadata": {
    "deletable": false,
    "editable": false
   },
   "source": [
    "#### #4-1 [required]"
   ]
  },
  {
   "cell_type": "code",
   "execution_count": 6,
   "metadata": {},
   "outputs": [],
   "source": [
    "# import if you need modules cell\n",
    "\n",
    "import pandas as pd\n",
    "from pathlib import Path\n",
    "from itertools import combinations\n",
    "import matplotlib.pyplot as plt"
   ]
  },
  {
   "cell_type": "markdown",
   "metadata": {
    "deletable": false,
    "editable": false
   },
   "source": [
    "#### #4-2 [uneditable]"
   ]
  },
  {
   "cell_type": "code",
   "execution_count": 7,
   "metadata": {
    "deletable": false,
    "editable": false
   },
   "outputs": [],
   "source": [
    "# must use modules\n",
    "from os import path\n",
    "import shutil  # do not remove\n",
    "from ait_sdk.common.files.ait_input import AITInput  # do not remove\n",
    "from ait_sdk.common.files.ait_output import AITOutput  # do not remove\n",
    "from ait_sdk.common.files.ait_manifest import AITManifest  # do not remove\n",
    "from ait_sdk.develop.ait_path_helper import AITPathHelper  # do not remove\n",
    "from ait_sdk.utils.logging import get_logger, log, get_log_path  # do not remove\n",
    "from ait_sdk.develop.annotation import measures, resources, downloads, ait_main  # do not remove\n",
    "# must use modules"
   ]
  },
  {
   "cell_type": "markdown",
   "metadata": {
    "deletable": false,
    "editable": false
   },
   "source": [
    "### #5 Manifest Generation"
   ]
  },
  {
   "cell_type": "markdown",
   "metadata": {
    "deletable": false,
    "editable": false
   },
   "source": [
    "[required]"
   ]
  },
  {
   "cell_type": "code",
   "execution_count": 8,
   "metadata": {},
   "outputs": [],
   "source": [
    "if not is_ait_launch:\n",
    "    from ait_sdk.common.files.ait_manifest_generator import AITManifestGenerator\n",
    "    manifest_genenerator = AITManifestGenerator(current_dir)\n",
    "    manifest_genenerator.set_ait_name('alyz_dataset_table_counts_attr_coverage')\n",
    "    manifest_genenerator.set_ait_description('【データの被覆性】を評価するため、データ内の属性組み合わせのレコード件数に着目し、レアケースやインバランスな傾向がないかを評価すること ※カテゴリー属性のみ対象となる')\n",
    "    manifest_genenerator.set_ait_source_repository('https://github.com/aistairc/Qunomon_AIT_alyz_dataset_table_counts_attr_coverage')\n",
    "    manifest_genenerator.set_ait_version('1.3')\n",
    "    manifest_genenerator.add_ait_licenses('Apache License Version 2.0')\n",
    "    manifest_genenerator.add_ait_keywords('Data Coverage')\n",
    "    manifest_genenerator.add_ait_keywords('Recode Count')\n",
    "    manifest_genenerator.set_ait_quality('https://ait-hub.pj.aist.go.jp/ait-hub/api/0.0.1/qualityDimensions/機械学習品質マネジメントガイドライン第三版/B-1データセットの被覆性')\n",
    "    inventory_requirement_iris_data = manifest_genenerator.format_ait_inventory_requirement(format_=['csv'])\n",
    "    manifest_genenerator.add_ait_inventories(name='alyz_data', \n",
    "                                             type_='dataset', \n",
    "                                             description='分析対象の表データ(csv)\\n 1列目は属性名', \n",
    "                                             requirement=inventory_requirement_iris_data)\n",
    "    manifest_genenerator.add_ait_parameters(name='preferred_attributes', \n",
    "                                            type_='str', \n",
    "                                            description='分析優先の属性(カンマ区切りで複数指定可能)\\n ※指定しない場合はNoneを入力', \n",
    "                                            default_val='None')\n",
    "    manifest_genenerator.add_ait_parameters(name='excluded_combinations', \n",
    "                                            type_='str', \n",
    "                                            description='分析対象外の属性組み合わせリスト\\n 入力例：(属性A, 属性B), (属性C, 属性D)\\n ※指定しない場合はNoneを入力', \n",
    "                                            default_val='None')\n",
    "    manifest_genenerator.add_ait_parameters(name='threshold_value', \n",
    "                                            type_='int', \n",
    "                                            description='レコード数の閾値', \n",
    "                                            default_val='10')\n",
    "    manifest_genenerator.add_ait_measures(name='attr_count', \n",
    "                                          type_='int', \n",
    "                                          description='レコード数の閾値以下の組み合わせ数の総和', \n",
    "                                          structure='single',\n",
    "                                          min='0')\n",
    "    manifest_genenerator.add_ait_resources(name='combination_counts_plot', \n",
    "                                           type_='picture', \n",
    "                                           description='各回組み合わせの統計結果の詳細の分布プロット')\n",
    "    manifest_genenerator.add_ait_downloads(name='combination_counts_detail', \n",
    "                                           description='各回組み合わせの統計結果の詳細\\n 出力順はレコード数の降順')\n",
    "    manifest_genenerator.add_ait_downloads(name='Log', \n",
    "                                           description='AIT実行ログ')\n",
    "    manifest_path = manifest_genenerator.write()"
   ]
  },
  {
   "cell_type": "markdown",
   "metadata": {
    "deletable": false,
    "editable": false
   },
   "source": [
    "### #6 Prepare for the Input"
   ]
  },
  {
   "cell_type": "markdown",
   "metadata": {
    "deletable": false,
    "editable": false
   },
   "source": [
    "[required]"
   ]
  },
  {
   "cell_type": "code",
   "execution_count": 9,
   "metadata": {},
   "outputs": [],
   "source": [
    "if not is_ait_launch:\n",
    "    from ait_sdk.common.files.ait_input_generator import AITInputGenerator\n",
    "    input_generator = AITInputGenerator(manifest_path)\n",
    "    input_generator.add_ait_inventories(name='alyz_data',\n",
    "                                        value='BDD_labels_2036.csv')\n",
    "    input_generator.set_ait_params(name='preferred_attributes',\n",
    "                                   value='Road type,Weather,Lighting,Obstacle')\n",
    "    input_generator.set_ait_params(name='excluded_combinations',\n",
    "                                   value='(Road type, Weather), (Road type, Lighting)')\n",
    "    input_generator.set_ait_params(name='threshold_value',\n",
    "                                   value=5)\n",
    "    input_generator.write()"
   ]
  },
  {
   "cell_type": "markdown",
   "metadata": {
    "deletable": false,
    "editable": false
   },
   "source": [
    "### #7 Initialization"
   ]
  },
  {
   "cell_type": "markdown",
   "metadata": {
    "deletable": false,
    "editable": false
   },
   "source": [
    "[uneditable]"
   ]
  },
  {
   "cell_type": "code",
   "execution_count": 10,
   "metadata": {
    "deletable": false,
    "editable": false
   },
   "outputs": [],
   "source": [
    "logger = get_logger()\n",
    "\n",
    "ait_manifest = AITManifest()\n",
    "ait_input = AITInput(ait_manifest)\n",
    "ait_output = AITOutput(ait_manifest)\n",
    "\n",
    "if is_ait_launch:\n",
    "    # launch from AIT\n",
    "    current_dir = path.dirname(path.abspath(__file__))\n",
    "    path_helper = AITPathHelper(argv=sys.argv, ait_input=ait_input, ait_manifest=ait_manifest, entry_point_dir=current_dir)\n",
    "else:\n",
    "    # launch from jupyter notebook\n",
    "    # ait.input.json make in input_dir\n",
    "    input_dir = '/usr/local/qai/mnt/ip/job_args/1/1'\n",
    "    current_dir = %pwd\n",
    "    path_helper = AITPathHelper(argv=['', input_dir], ait_input=ait_input, ait_manifest=ait_manifest, entry_point_dir=current_dir)\n",
    "\n",
    "ait_input.read_json(path_helper.get_input_file_path())\n",
    "ait_manifest.read_json(path_helper.get_manifest_file_path())\n",
    "\n",
    "### do not edit cell"
   ]
  },
  {
   "cell_type": "markdown",
   "metadata": {
    "deletable": false,
    "editable": false
   },
   "source": [
    "### #8 Function definitions"
   ]
  },
  {
   "cell_type": "markdown",
   "metadata": {
    "deletable": false,
    "editable": false
   },
   "source": [
    "[required]"
   ]
  },
  {
   "cell_type": "code",
   "execution_count": 11,
   "metadata": {},
   "outputs": [],
   "source": [
    "@log(logger)\n",
    "@measures(ait_output, 'attr_count')\n",
    "def alyz_data_coverage(alyz_data_df, preferred_attributes_str, excluded_combinations_str, threshold_value):\n",
    "    \n",
    "    print(f'\\n alyz_data_columns:{alyz_data_df.columns.tolist()}')\n",
    "    \n",
    "    # Select only columns that meet criteria for categorical attributes\n",
    "    categorical_columns = [col for col in alyz_data_df.columns \n",
    "                           if (alyz_data_df[col].dtype == 'object' \n",
    "                               or \n",
    "                               alyz_data_df[col].dtype == 'int') \n",
    "                           and alyz_data_df[col].nunique() <= 50]\n",
    "    print(f'\\n categorical_columns:{categorical_columns}')\n",
    "    \n",
    "    if len(categorical_columns) == 0:\n",
    "        raise ValueError(\"Category attribute not exist\")\n",
    "    \n",
    "    # Extract only categorical attribute columns\n",
    "    category_df = alyz_data_df[categorical_columns]\n",
    "    \n",
    "    if preferred_attributes_str == 'None':\n",
    "        preferred_attributes = category_df.columns.tolist()\n",
    "    else:\n",
    "        preferred_attributes = preferred_attributes_str.split(',')\n",
    "\n",
    "    attribute_combinations = list(combinations(preferred_attributes, 2)) if len(preferred_attributes) > 2 else [tuple(preferred_attributes)]\n",
    "    print(f'\\n target_attribute_combinations:{attribute_combinations}')\n",
    "    \n",
    "    if excluded_combinations_str != 'None':\n",
    "        attribute_combinations = [comb for comb in attribute_combinations if comb not in convert_string_to_list_of_tuples(excluded_combinations_str)]\n",
    "        print(f'\\n filtered_combinations :{attribute_combinations}')\n",
    "        if len(attribute_combinations) == 0:\n",
    "            raise ValueError(\"Attribute combinations not exist\")\n",
    "    \n",
    "    combination_counts = {}\n",
    "    \n",
    "    print('\\n************************************************************************\\n')\n",
    "    \n",
    "    for comb in attribute_combinations:\n",
    "        filtered_data = category_df[list(comb)]\n",
    "        combination_count = filtered_data.value_counts().to_dict()\n",
    "        \n",
    "        print(f'\\n combination:{comb} \\n combination_count:{combination_count}')\n",
    "\n",
    "        combination_counts[comb] = combination_count\n",
    "    \n",
    "    print('\\n************************************************************************\\n')\n",
    "    \n",
    "    # Count the number of combinations below the threshold\n",
    "    low_coverage_counts = sum(1 for _, counts in combination_counts.items() for count in counts.values() if count <= threshold_value)\n",
    "    print(f'\\n low_coverage_counts:{low_coverage_counts}')\n",
    "    \n",
    "    print('\\n************************************************************************\\n')\n",
    "    \n",
    "    return low_coverage_counts, combination_counts\n",
    "\n",
    "\n",
    "def convert_string_to_list_of_tuples(str):\n",
    "    pairs_list = str.split('), ')\n",
    "    result_list = [tuple(pair.replace('(', '').replace(')', '').split(',')) for pair in pairs_list]\n",
    "    return result_list\n",
    "\n"
   ]
  },
  {
   "cell_type": "code",
   "execution_count": 12,
   "metadata": {},
   "outputs": [],
   "source": [
    "@log(logger)\n",
    "@resources(ait_output, path_helper, 'combination_counts_plot')\n",
    "def combination_counts_plot(combination_counts, file_name, file_path: str=None) -> None:\n",
    "    counts = []\n",
    "    labels = []\n",
    "\n",
    "    # データの抽出とラベルの作成\n",
    "    for comb, count_dict in combination_counts.items():\n",
    "        for values, count in count_dict.items():\n",
    "            label = f\"{comb}: {values}\"\n",
    "            labels.append(label)\n",
    "            counts.append(count)\n",
    "\n",
    "    # データをカウントの降順で並べ替え\n",
    "    sorted_indices = sorted(range(len(counts)), key=lambda i: counts[i], reverse=True)\n",
    "    sorted_counts = [counts[i] for i in sorted_indices]\n",
    "    sorted_labels = [labels[i] for i in sorted_indices]\n",
    "\n",
    "    plt.figure(figsize=(10, 8))\n",
    "    plt.bar(sorted_labels, sorted_counts, color='skyblue')\n",
    "    plt.ylabel('Record Count')\n",
    "    plt.title('Record Count by Attribute Combinations')\n",
    "    plt.xticks([])\n",
    "    plt.tight_layout()\n",
    "\n",
    "    file_path = file_path +  file_name\n",
    "    plt.savefig(file_path, bbox_inches='tight')\n",
    "    plt.show()\n",
    "\n",
    "    return file_path"
   ]
  },
  {
   "cell_type": "code",
   "execution_count": 13,
   "metadata": {},
   "outputs": [],
   "source": [
    "@log(logger)\n",
    "@downloads(ait_output, path_helper, 'Log', 'ait.log')\n",
    "def move_log(file_path: str=None) -> str:\n",
    "    shutil.move(get_log_path(), file_path)"
   ]
  },
  {
   "cell_type": "code",
   "execution_count": 14,
   "metadata": {},
   "outputs": [],
   "source": [
    "@log(logger)\n",
    "@downloads(ait_output, path_helper, 'combination_counts_detail', 'combination_counts_detail.csv')\n",
    "def alyz_result(combination_counts, file_path: str=None) -> str: \n",
    "    \n",
    "    print(f'combination_counts: {combination_counts}')\n",
    "    \n",
    "    rows = []\n",
    "    for main_comb, sub_combs in combination_counts.items():\n",
    "        for sub_comb, count in sub_combs.items():\n",
    "            combined_combination = f\"{main_comb} - {sub_comb}\"\n",
    "            rows.append({'Combination': combined_combination, 'Count': count})\n",
    "\n",
    "    df = pd.DataFrame(rows)\n",
    "    df_sorted = df.sort_values(by='Count', ascending=False)\n",
    "    \n",
    "    df_sorted.to_csv(file_path, index=False)\n",
    "    "
   ]
  },
  {
   "cell_type": "markdown",
   "metadata": {
    "deletable": false,
    "editable": false
   },
   "source": [
    "### #9 Main Algorithms"
   ]
  },
  {
   "cell_type": "markdown",
   "metadata": {
    "deletable": false,
    "editable": false
   },
   "source": [
    "[required]"
   ]
  },
  {
   "cell_type": "code",
   "execution_count": 15,
   "metadata": {},
   "outputs": [],
   "source": [
    "@log(logger)\n",
    "@ait_main(ait_output, path_helper, is_ait_launch)\n",
    "def main() -> None:\n",
    "    \n",
    "    # load inventory\n",
    "    alyz_data_df = pd.read_csv(ait_input.get_inventory_path('alyz_data'))\n",
    "    \n",
    "    # parameters\n",
    "    preferred_attributes_str = ait_input.get_method_param_value('preferred_attributes')\n",
    "    print('preferred_attributes:', preferred_attributes_str)\n",
    "    excluded_combinations_str = ait_input.get_method_param_value('excluded_combinations')\n",
    "    print('excluded_combinations:', excluded_combinations_str)\n",
    "    threshold_value = ait_input.get_method_param_value('threshold_value')\n",
    "    print('threshold_value:', threshold_value)\n",
    "    \n",
    "    # analyze data coverage \n",
    "    low_coverage_counts, combination_counts = alyz_data_coverage(alyz_data_df, preferred_attributes_str, excluded_combinations_str, threshold_value)\n",
    "    \n",
    "    # Generate and save a plot\n",
    "    combination_counts_plot(combination_counts, 'combination_counts_plot.jpg')\n",
    "    \n",
    "    # output result csv\n",
    "    alyz_result(combination_counts)\n",
    "    \n",
    "    move_log()"
   ]
  },
  {
   "cell_type": "markdown",
   "metadata": {
    "deletable": false,
    "editable": false
   },
   "source": [
    "### #10 Entry point"
   ]
  },
  {
   "cell_type": "markdown",
   "metadata": {
    "deletable": false,
    "editable": false
   },
   "source": [
    "[uneditable]"
   ]
  },
  {
   "cell_type": "code",
   "execution_count": 16,
   "metadata": {
    "deletable": false,
    "editable": false
   },
   "outputs": [
    {
     "name": "stdout",
     "output_type": "stream",
     "text": [
      "preferred_attributes: Road type,Weather,Lighting,Obstacle\n",
      "excluded_combinations: (Road type, Weather), (Road type, Lighting)\n",
      "threshold_value: 5\n",
      "\n",
      " alyz_data_columns:['Name', 'Road type', 'Weather', 'Lighting', 'Obstacle', 'Pedestrian', 'Signal', 'Road condition', 'Traffic', 'Zebra crossing', 'Image clarity', 'Time']\n",
      "\n",
      " categorical_columns:['Road type', 'Weather', 'Lighting', 'Obstacle', 'Pedestrian', 'Signal', 'Road condition', 'Traffic', 'Zebra crossing', 'Image clarity', 'Time']\n",
      "\n",
      " target_attribute_combinations:[('Road type', 'Weather'), ('Road type', 'Lighting'), ('Road type', 'Obstacle'), ('Weather', 'Lighting'), ('Weather', 'Obstacle'), ('Lighting', 'Obstacle')]\n",
      "\n",
      " filtered_combinations :[('Road type', 'Weather'), ('Road type', 'Lighting'), ('Road type', 'Obstacle'), ('Weather', 'Lighting'), ('Weather', 'Obstacle'), ('Lighting', 'Obstacle')]\n",
      "\n",
      "************************************************************************\n",
      "\n",
      "\n",
      " combination:('Road type', 'Weather') \n",
      " combination_count:{('General way', 'Fine'): 1529, ('Highway', 'Fine'): 213, ('General way', 'Cloudy'): 99, ('Under bridge/FO', 'Fine'): 60, ('General way', 'Rainy'): 57, ('Parking lot/Gas station', 'Fine'): 14, ('Highway', 'Cloudy'): 13, ('Undefined', 'Undefined'): 9, ('General way', 'Undefined'): 7, ('General way', 'Snowy'): 7, ('Undefined', 'Fine'): 7, ('Highway', 'Rainy'): 5, ('Parking lot/Gas station', 'Cloudy'): 3, ('Highway', 'Undefined'): 2, ('Tunnel', 'Fine'): 2, ('Tunnel', 'Undefined'): 2, ('General way', 'Foggy'): 2, ('Parking lot/Gas station', 'Snowy'): 1, ('Parking lot/Gas station', 'Undefined'): 1, ('Undefined', 'Cloudy'): 1, ('Under bridge/FO', 'Cloudy'): 1, ('Under bridge/FO', 'Undefined'): 1}\n",
      "\n",
      " combination:('Road type', 'Lighting') \n",
      " combination_count:{('General way', 'Normal'): 891, ('General way', 'Low'): 731, ('Highway', 'Normal'): 129, ('General way', 'High'): 79, ('Highway', 'Low'): 77, ('Under bridge/FO', 'Normal'): 42, ('Highway', 'High'): 27, ('Under bridge/FO', 'Low'): 20, ('Undefined', 'Low'): 17, ('Parking lot/Gas station', 'Normal'): 16, ('Parking lot/Gas station', 'Low'): 3, ('Tunnel', 'Low'): 2, ('Tunnel', 'Normal'): 2}\n",
      "\n",
      " combination:('Road type', 'Obstacle') \n",
      " combination_count:{('General way', 'Vehicle'): 47, ('General way', 'Others'): 31, ('General way', 'Not sure'): 2, ('Highway', 'Others'): 2, ('Parking lot/Gas station', 'Others'): 2, ('Parking lot/Gas station', 'Vehicle'): 2, ('Highway', 'Vehicle'): 1, ('Undefined', 'Not sure'): 1, ('Undefined', 'Undefined'): 1, ('Under bridge/FO', 'Others'): 1, ('Under bridge/FO', 'Vehicle'): 1}\n",
      "\n",
      " combination:('Weather', 'Lighting') \n",
      " combination_count:{('Fine', 'Normal'): 927, ('Fine', 'Low'): 792, ('Fine', 'High'): 106, ('Cloudy', 'Normal'): 105, ('Rainy', 'Normal'): 37, ('Rainy', 'Low'): 25, ('Undefined', 'Low'): 20, ('Cloudy', 'Low'): 12, ('Snowy', 'Normal'): 7, ('Foggy', 'Normal'): 2, ('Undefined', 'Normal'): 2, ('Snowy', 'Low'): 1}\n",
      "\n",
      " combination:('Weather', 'Obstacle') \n",
      " combination_count:{('Fine', 'Vehicle'): 44, ('Fine', 'Others'): 33, ('Cloudy', 'Vehicle'): 4, ('Rainy', 'Vehicle'): 3, ('Undefined', 'Not sure'): 2, ('Cloudy', 'Not sure'): 1, ('Cloudy', 'Others'): 1, ('Cloudy', 'Undefined'): 1, ('Rainy', 'Others'): 1, ('Undefined', 'Others'): 1}\n",
      "\n",
      " combination:('Lighting', 'Obstacle') \n",
      " combination_count:{('Normal', 'Vehicle'): 35, ('Normal', 'Others'): 24, ('Low', 'Vehicle'): 15, ('Low', 'Others'): 11, ('Low', 'Not sure'): 2, ('High', 'Others'): 1, ('High', 'Vehicle'): 1, ('Low', 'Undefined'): 1, ('Normal', 'Not sure'): 1}\n",
      "\n",
      "************************************************************************\n",
      "\n",
      "\n",
      " low_coverage_counts:39\n",
      "\n",
      "************************************************************************\n",
      "\n"
     ]
    },
    {
     "data": {
      "image/png": "[encoded data removed]",
      "text/plain": [
       "<Figure size 1000x800 with 1 Axes>"
      ]
     },
     "metadata": {},
     "output_type": "display_data"
    },
    {
     "name": "stdout",
     "output_type": "stream",
     "text": [
      "combination_counts: {('Road type', 'Weather'): {('General way', 'Fine'): 1529, ('Highway', 'Fine'): 213, ('General way', 'Cloudy'): 99, ('Under bridge/FO', 'Fine'): 60, ('General way', 'Rainy'): 57, ('Parking lot/Gas station', 'Fine'): 14, ('Highway', 'Cloudy'): 13, ('Undefined', 'Undefined'): 9, ('General way', 'Undefined'): 7, ('General way', 'Snowy'): 7, ('Undefined', 'Fine'): 7, ('Highway', 'Rainy'): 5, ('Parking lot/Gas station', 'Cloudy'): 3, ('Highway', 'Undefined'): 2, ('Tunnel', 'Fine'): 2, ('Tunnel', 'Undefined'): 2, ('General way', 'Foggy'): 2, ('Parking lot/Gas station', 'Snowy'): 1, ('Parking lot/Gas station', 'Undefined'): 1, ('Undefined', 'Cloudy'): 1, ('Under bridge/FO', 'Cloudy'): 1, ('Under bridge/FO', 'Undefined'): 1}, ('Road type', 'Lighting'): {('General way', 'Normal'): 891, ('General way', 'Low'): 731, ('Highway', 'Normal'): 129, ('General way', 'High'): 79, ('Highway', 'Low'): 77, ('Under bridge/FO', 'Normal'): 42, ('Highway', 'High'): 27, ('Under bridge/FO', 'Low'): 20, ('Undefined', 'Low'): 17, ('Parking lot/Gas station', 'Normal'): 16, ('Parking lot/Gas station', 'Low'): 3, ('Tunnel', 'Low'): 2, ('Tunnel', 'Normal'): 2}, ('Road type', 'Obstacle'): {('General way', 'Vehicle'): 47, ('General way', 'Others'): 31, ('General way', 'Not sure'): 2, ('Highway', 'Others'): 2, ('Parking lot/Gas station', 'Others'): 2, ('Parking lot/Gas station', 'Vehicle'): 2, ('Highway', 'Vehicle'): 1, ('Undefined', 'Not sure'): 1, ('Undefined', 'Undefined'): 1, ('Under bridge/FO', 'Others'): 1, ('Under bridge/FO', 'Vehicle'): 1}, ('Weather', 'Lighting'): {('Fine', 'Normal'): 927, ('Fine', 'Low'): 792, ('Fine', 'High'): 106, ('Cloudy', 'Normal'): 105, ('Rainy', 'Normal'): 37, ('Rainy', 'Low'): 25, ('Undefined', 'Low'): 20, ('Cloudy', 'Low'): 12, ('Snowy', 'Normal'): 7, ('Foggy', 'Normal'): 2, ('Undefined', 'Normal'): 2, ('Snowy', 'Low'): 1}, ('Weather', 'Obstacle'): {('Fine', 'Vehicle'): 44, ('Fine', 'Others'): 33, ('Cloudy', 'Vehicle'): 4, ('Rainy', 'Vehicle'): 3, ('Undefined', 'Not sure'): 2, ('Cloudy', 'Not sure'): 1, ('Cloudy', 'Others'): 1, ('Cloudy', 'Undefined'): 1, ('Rainy', 'Others'): 1, ('Undefined', 'Others'): 1}, ('Lighting', 'Obstacle'): {('Normal', 'Vehicle'): 35, ('Normal', 'Others'): 24, ('Low', 'Vehicle'): 15, ('Low', 'Others'): 11, ('Low', 'Not sure'): 2, ('High', 'Others'): 1, ('High', 'Vehicle'): 1, ('Low', 'Undefined'): 1, ('Normal', 'Not sure'): 1}}\n"
     ]
    }
   ],
   "source": [
    "if __name__ == '__main__':\n",
    "    main()"
   ]
  },
  {
   "cell_type": "markdown",
   "metadata": {
    "deletable": false,
    "editable": false
   },
   "source": [
    "### #11 License"
   ]
  },
  {
   "cell_type": "markdown",
   "metadata": {
    "deletable": false,
    "editable": false
   },
   "source": [
    "[required]"
   ]
  },
  {
   "cell_type": "code",
   "execution_count": 17,
   "metadata": {},
   "outputs": [],
   "source": [
    "ait_owner='AIST'\n",
    "ait_creation_year='2024'"
   ]
  },
  {
   "cell_type": "markdown",
   "metadata": {
    "deletable": false,
    "editable": false
   },
   "source": [
    "### #12 Deployment"
   ]
  },
  {
   "cell_type": "markdown",
   "metadata": {
    "deletable": false,
    "editable": false
   },
   "source": [
    "[uneditable] "
   ]
  },
  {
   "cell_type": "code",
   "execution_count": 18,
   "metadata": {
    "deletable": false,
    "editable": false
   },
   "outputs": [],
   "source": [
    "if not is_ait_launch:\n",
    "    from ait_sdk.deploy import prepare_deploy\n",
    "    from ait_sdk.license.license_generator import LicenseGenerator\n",
    "    \n",
    "    current_dir = %pwd\n",
    "    prepare_deploy(ait_sdk_name, current_dir, requirements_path)\n",
    "    \n",
    "    # output License.txt\n",
    "    license_generator = LicenseGenerator()\n",
    "    license_generator.write('../top_dir/LICENSE.txt', ait_creation_year, ait_owner)\n"
   ]
  },
  {
   "cell_type": "code",
   "execution_count": null,
   "metadata": {},
   "outputs": [],
   "source": []
  }
 ],
 "metadata": {
  "celltoolbar": "Edit Metadata",
  "kernelspec": {
   "display_name": "Python 3 (ipykernel)",
   "language": "python",
   "name": "python3"
  },
  "language_info": {
   "codemirror_mode": {
    "name": "ipython",
    "version": 3
   },
   "file_extension": ".py",
   "mimetype": "text/x-python",
   "name": "python",
   "nbconvert_exporter": "python",
   "pygments_lexer": "ipython3",
   "version": "3.10.16"
  },
  "vscode": {
   "interpreter": {
    "hash": "cc00c6a56d87bd8bd7773e730c60ddfdb8804da6b7537df09499efbcf81630f7"
   }
  }
 },
 "nbformat": 4,
 "nbformat_minor": 4
}
